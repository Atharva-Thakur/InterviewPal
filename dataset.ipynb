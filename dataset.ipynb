{
 "cells": [
  {
   "cell_type": "code",
   "execution_count": 14,
   "metadata": {},
   "outputs": [],
   "source": [
    "import json\n",
    "import csv\n",
    "\n",
    "# Open the JSONL file for reading\n",
    "with open('train.jsonl', 'r', encoding='utf-8-sig') as jsonl_file:\n",
    "    # Create a CSV file for writing\n",
    "    with open('output.csv', 'w', newline='') as csv_file:\n",
    "        # Define the fieldnames for the CSV\n",
    "        fieldnames = [\"instruction\", \"output\"]\n",
    "        \n",
    "        # Create a CSV writer\n",
    "        csv_writer = csv.DictWriter(csv_file, fieldnames=fieldnames)\n",
    "        \n",
    "        # Write the header row to the CSV file\n",
    "        csv_writer.writeheader()\n",
    "        \n",
    "        for line in jsonl_file:\n",
    "            data = json.loads(line)\n",
    "            \n",
    "            # Extract the 'instruction' and 'output' fields from the JSON data\n",
    "            instruction = data.get('instruction', '')\n",
    "            output = data.get('output', '')\n",
    "            \n",
    "            # Write the extracted data to the CSV file\n",
    "            csv_writer.writerow({'instruction': instruction, 'output': output})\n"
   ]
  }
 ],
 "metadata": {
  "kernelspec": {
   "display_name": "Python 3",
   "language": "python",
   "name": "python3"
  },
  "language_info": {
   "codemirror_mode": {
    "name": "ipython",
    "version": 3
   },
   "file_extension": ".py",
   "mimetype": "text/x-python",
   "name": "python",
   "nbconvert_exporter": "python",
   "pygments_lexer": "ipython3",
   "version": "3.10.6"
  }
 },
 "nbformat": 4,
 "nbformat_minor": 2
}
